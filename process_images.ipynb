{
 "cells": [
  {
   "cell_type": "code",
   "execution_count": 1,
   "metadata": {},
   "outputs": [],
   "source": [
    "# GRAB A SERIES OF STREET VIEW IMAGES FROM ADDRESSES PROVIDED\n",
    "\n",
    "\n",
    "import os\n",
    "import urllib.request, urllib.parse \n",
    "import requests\n",
    "from requests.utils import requote_uri\n",
    "import json\n",
    "# Google developer API key\n",
    "from config import gkey\n",
    "\n",
    "myloc = r\"/static/data/raw\"\n",
    "key = key = \"&key=\" + \"gkey\"\n",
    "def GetStreet(Add,SaveLoc):\n",
    "    base = \"https://maps.googleapis.com/maps/api/streetview?size=1200x800&location=\"\n",
    "    #MyUrl = base + urllib.parse.quote_plus(Add) + key  #added url encoding\n",
    "    MyUrl = base + requote_uri(Add) + key  #added url encoding\n",
    "    fi = Add + \".jpg\"\n",
    "    requests.get(MyUrl, os.path.join(SaveLoc,fi), stream=True, headers={'User-agent': 'Mozilla/5.0'})\n",
    "  \n",
    "\n",
    "Tests = [\"2620 N Drake Ave, Chicago, Illinois 60647\",\n",
    "         \"2622 N Drake Ave, Chicago, Illinois 60647\",\n",
    "         \"2626 N Drake Ave, Chicago, Illinois 60647\",\n",
    "         \"2630 N Drake Ave, Chicago, Illinois 60647\",\n",
    "         \"2648 N Drake Ave, Chicago, Illinois 60647\"]\n",
    "\n",
    "for i in Tests:\n",
    "  GetStreet(Add=i,SaveLoc=myloc)"
   ]
  },
  {
   "cell_type": "code",
   "execution_count": null,
   "metadata": {},
   "outputs": [],
   "source": [
    "\n",
    "'''\n",
    "# load and show an image with Pillow\n",
    "\n",
    "# load the image\n",
    "image = Image.open('static/data/test/brickornot.jpg')\n",
    "# summarize some details about the image\n",
    "print(image.format)\n",
    "print(image.mode)\n",
    "print(image.size)\n",
    "# show the image\n",
    "image.show()'''"
   ]
  },
  {
   "cell_type": "code",
   "execution_count": null,
   "metadata": {},
   "outputs": [],
   "source": [
    "'''# load all images in a directory\n",
    "loaded_images = list()\n",
    "for filename in listdir('images'):\n",
    "\t# load image\n",
    "\timg_data = image.imread('images/' + filename)\n",
    "\t# store loaded image\n",
    "\tloaded_images.append(img_data)\n",
    "\tprint('> loaded %s %s' % (filename, img_data.shape))'''\n"
   ]
  },
  {
   "cell_type": "code",
   "execution_count": null,
   "metadata": {},
   "outputs": [],
   "source": [
    "%matplotlib inline\n",
    "import PIL\n",
    "from PIL import Image\n",
    "from os import listdir\n",
    "from matplotlib import image\n",
    "from matplotlib import pyplot"
   ]
  },
  {
   "cell_type": "code",
   "execution_count": null,
   "metadata": {},
   "outputs": [],
   "source": [
    "# example of saving a grayscale version of a loaded image\n",
    "from PIL import Image\n",
    "# load the image\n",
    "image = Image.open('static/data/test/brickornot.jpg')\n",
    "# convert the image to grayscale\n",
    "gs_image = image.convert(mode='L')\n",
    "# report the size of the image\n",
    "print(image.size)\n",
    "# create a thumbnail and preserve aspect ratio\n",
    "image.thumbnail((100,100))\n",
    "# report the size of the thumbnail\n",
    "print(image.size)\n",
    "# save in jpeg format\n",
    "gs_image.save('static/data/test_convert/brickornot.jpg')"
   ]
  },
  {
   "cell_type": "code",
   "execution_count": null,
   "metadata": {},
   "outputs": [],
   "source": [
    "# load the image again and show it\n",
    "image2 = Image.open('static/data/test_convert/brickornot.jpg')\n",
    "# show the image\n",
    "image2.show()"
   ]
  },
  {
   "cell_type": "code",
   "execution_count": null,
   "metadata": {},
   "outputs": [],
   "source": []
  },
  {
   "cell_type": "code",
   "execution_count": null,
   "metadata": {},
   "outputs": [],
   "source": [
    "'''# save as PNG format\n",
    "image.save('opera_house.png', format='PNG')\n",
    "# load the image again and inspect the format\n",
    "image2 = Image.open('opera_house.png')\n",
    "print(image2.format)'''"
   ]
  }
 ],
 "metadata": {
  "kernelspec": {
   "display_name": "Python 3",
   "language": "python",
   "name": "python3"
  },
  "language_info": {
   "codemirror_mode": {
    "name": "ipython",
    "version": 3
   },
   "file_extension": ".py",
   "mimetype": "text/x-python",
   "name": "python",
   "nbconvert_exporter": "python",
   "pygments_lexer": "ipython3",
   "version": "3.7.6"
  }
 },
 "nbformat": 4,
 "nbformat_minor": 4
}
