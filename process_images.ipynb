{
 "cells": [
  {
   "cell_type": "code",
   "execution_count": null,
   "metadata": {},
   "outputs": [],
   "source": [
    "import pandas as pd\n",
    "from pandas.io.json import json_normalize\n",
    "from pandas import DataFrame\n",
    "import os\n",
    "from geopy import geocoders\n",
    "from geopy.geocoders import GoogleV3\n",
    "from config import gkey\n",
    "\n",
    "import geopandas as gpd\n",
    "from shapely import wkt\n",
    "from shapely.wkt import loads\n",
    "import re"
   ]
  },
  {
   "cell_type": "code",
   "execution_count": null,
   "metadata": {},
   "outputs": [],
   "source": [
    "# Pull in geojson address data from openaddresses\n",
    "fname = \"resources/us_il_city_of_evanston-addresses-city.geojson\"\n",
    "\n",
    "# read file to dataframe\n",
    "gdf = gpd.read_file(fname)\n",
    "\n",
    "simpledec = re.compile(r\"\\d*\\.\\d+\")\n",
    "def mround(match):\n",
    "    return \"{:.5f}\".format(float(match.group()))\n",
    "\n",
    "gdf.geometry = gdf.geometry.apply(lambda x: loads(re.sub(simpledec, mround, x.wkt)))\n",
    "gdf"
   ]
  },
  {
   "cell_type": "code",
   "execution_count": null,
   "metadata": {},
   "outputs": [],
   "source": [
    "# Verify/Make pandas dataframe\n",
    "addressdf = pd.DataFrame(gdf)\n",
    "\n",
    "# Change 'geometry' column datatype from geometry to object\n",
    "addressdf['geometry'] = addressdf.geometry.apply(lambda x: wkt.dumps(x, rounding_precision=5))\n"
   ]
  },
  {
   "cell_type": "code",
   "execution_count": null,
   "metadata": {},
   "outputs": [],
   "source": [
    "# Check dataframe\n",
    "addressdf"
   ]
  },
  {
   "cell_type": "code",
   "execution_count": null,
   "metadata": {},
   "outputs": [],
   "source": [
    "# Combine address columns to one column\n",
    "# addressdf['address'] = addressdf['street'].str.cat(addressdf['city'].str.cat(addressdf['region'],sep=\" \")\n",
    "\n",
    "# Remove extra strings from the latitude and longitude in the geometry column\n",
    "addressdf['geometry'] = addressdf['geometry'].str.replace('POINT ', '').str.replace('(', '').str.replace(')', '')\n",
    "addressdf"
   ]
  },
  {
   "cell_type": "code",
   "execution_count": null,
   "metadata": {},
   "outputs": [],
   "source": [
    "# Remove un-needed columns\n",
    "addressdf.drop(['unit', 'district'],axis=1,inplace=True)\n",
    "addressdf"
   ]
  },
  {
   "cell_type": "code",
   "execution_count": null,
   "metadata": {},
   "outputs": [],
   "source": [
    "\n",
    "# fltraddress = addressdf[addressdf['addresses'].str.lower().str.contains('^6')]\n",
    "# fltraddress"
   ]
  },
  {
   "cell_type": "code",
   "execution_count": null,
   "metadata": {},
   "outputs": [],
   "source": [
    "# adds_sml = pd.read_csv(\"static/data/sample/adds_sml.csv\")\n",
    "def format_coordinates(x):\n",
    "    coordinates = x.split(' ')\n",
    "    lat = str(coordinates[1])\n",
    "    long = str(coordinates[0])\n",
    "    formatted = lat + ', ' + long\n",
    "    return formatted\n",
    "addressdf['geometry'] = addressdf['geometry'].apply(format_coordinates)\n",
    "addressdf\n"
   ]
  },
  {
   "cell_type": "code",
   "execution_count": null,
   "metadata": {},
   "outputs": [],
   "source": [
    "addressdf['city'] = addressdf['city'].apply(lambda x: f\"{x},\")\n",
    "addressdf"
   ]
  },
  {
   "cell_type": "code",
   "execution_count": null,
   "metadata": {},
   "outputs": [],
   "source": [
    "addressdf = addressdf.assign(addresses = addressdf.number.astype(str) + \" \" +\\\n",
    "  addressdf.street.astype(str) + \" \" + addressdf.city.astype(str) + \" \" + \\\n",
    "  addressdf.region.astype(str) + \" \" +addressdf.postcode.astype(str))\n",
    "addressdf"
   ]
  },
  {
   "cell_type": "code",
   "execution_count": null,
   "metadata": {},
   "outputs": [],
   "source": [
    "adds_sml = addressdf.sample(n = 100) \n",
    "adds_sml"
   ]
  },
  {
   "cell_type": "code",
   "execution_count": null,
   "metadata": {},
   "outputs": [],
   "source": [
    "import numpy as np\n",
    "address_list = adds_sml['addresses'].to_numpy()\n",
    "np.savetxt(\"static/data/raw/sample_address_list.txt\", address_list, fmt='%5s')"
   ]
  },
  {
   "cell_type": "code",
   "execution_count": null,
   "metadata": {},
   "outputs": [],
   "source": [
    "# GRAB A SERIES OF STREET VIEW IMAGES FROM latlong PROVIDED\n",
    "import json\n",
    "# Import google_streetview for the api module\n",
    "import google_streetview.api\n",
    "import time\n",
    "import glob\n",
    "import streetview\n",
    "import itertools \n"
   ]
  },
  {
   "cell_type": "code",
   "execution_count": null,
   "metadata": {},
   "outputs": [],
   "source": [
    "#import os and urllib modules\n",
    "#os for file path creation\n",
    "#urllib for accessing web content\n",
    "import urllib.request\n",
    "\n",
    " \n",
    "#this is the first part of the streetview, url up to the address, this url will return a 600x600px image\n",
    "#pre=\"https://maps.googleapis.com/maps/api/streetview?size=600x600&amp;location=\"\n",
    "pre=\"https://maps.googleapis.com/maps/api/streetview?size=600x600&location=\"\n",
    " \n",
    "#this is the second part of the streetview url, the text variable below, includes the path to a text file containing one address per line\n",
    "#the addresses in this text file will complete the URL needed to return a streetview image and provide the filename of each streetview image\n",
    "text=\"static/data/raw/sample_address_list.txt\"\n",
    " \n",
    "#this is the third part of the url, needed after the address\n",
    "#this is my API key, please replace the one below with your own (google 'google streetview api key'), thanks!\n",
    "suf=f\"&key={gkey}&fov=60\"\n",
    " \n",
    "#this is the directory that will store the streetview images\n",
    "#this directory will be created if not present\n",
    "dir=r\"static/data/raw/locs/\"\n",
    " \n",
    "#checks if the dir variable (output path) above exists and creates it if it does not\n",
    "if not os.path.exists(dir):\n",
    "    os.makedirs(dir)\n",
    " \n",
    "#opens the address list text file (from the 'text' variable defined above) in read mode (\"r\")\n",
    "with open(text,\"r\") as text_file:\n",
    "  #the variable 'lines' below creates a list of each address line in the source 'text' file\n",
    "  lines = [line.rstrip('\\n') for line in open(text)]\n",
    "#   print(\"THE CONTENTS OF THE TEXT FILE:\\n\"+str(lines))\n",
    "  #start a loop through the 'lines' list\n",
    "  for line in lines:\n",
    "    #string clean-up to get rid of commas in the url and filename\n",
    "    ln = line.replace(\" \" , \"+\")\n",
    "#     print(\"CLEANED UP ADDRESS LINE:\\n\"+ln)\n",
    "    # creates the url that will be passed to the url reader, this creates the full, valid, url that will return a google streetview image for each address in the address text file\n",
    "    URL = pre+ln+suf\n",
    "#     print(\"URL FOR STREETVIEW IMAGE:\\n\"+URL)\n",
    "    #creates the filename needed to save each address's streetview image locally\n",
    "    filename = os.path.join(dir,ln+\".jpg\")\n",
    "#     print(\"OUTPUT FILENAME:\\n\"+filename)\n",
    "    #you can run this up to this line in the python command line to see what each step does\n",
    "    #final step, fetches and saves the streetview image for each address using the url created in the previous steps\n",
    "    urllib.request.urlretrieve(URL, filename)"
   ]
  },
  {
   "cell_type": "code",
   "execution_count": null,
   "metadata": {},
   "outputs": [],
   "source": [
    "# adds_sml.to_csv (r'static/data/sample/adds_sml.csv', index = True, header=True)"
   ]
  },
  {
   "cell_type": "code",
   "execution_count": null,
   "metadata": {},
   "outputs": [],
   "source": [
    "# # create a params dict that will be updated with new city each iteration\n",
    "# params = {\n",
    "#     'size': '640x640', # max 640x640 pixels\n",
    "#     'heading': '90',\n",
    "#     'location': '',\n",
    "#     'pitch': '-0.76',\n",
    "#     'fov': 120,\n",
    "#     'key': gkey\n",
    "# }\n",
    "\n",
    "# # Loop through the cities_pd and run a lat/long search for each city\n",
    "# geometry_list = adds_sml['geometry'].to_list()\n",
    "# i = 0\n",
    "# for latlong in geometry_list[50:60]:\n",
    "    \n",
    "#     # update address key value\n",
    "#     params['location'] = latlong\n",
    "    \n",
    "#     # Create a results object\n",
    "# #     results = google_streetview.api.results(params)\n",
    "#     results = google_streetview.api.results([params])\n",
    "    \n",
    "    \n",
    "     \n",
    "\n",
    "#     # Download images to directory 'downloads'\n",
    "#     results.download_links(f\"static/data/raw/geo{i}\",)\n",
    "#     old_file_name = f\"static/data/raw/geo{i}/gsv_0.jpg\"\n",
    "#     new_file_name = f\"static/data/raw/geo{i}/gsv_{i}.jpg\"\n",
    "\n",
    "#     os.rename(old_file_name, new_file_name)\n",
    "    \n",
    "#     #pull .jpeg into main folder rename .jpeg{i}\n",
    "    \n",
    "#     i += 1\n",
    "    \n",
    "#     # Wait for 1 second\n",
    "#     #time.sleep(1)"
   ]
  },
  {
   "cell_type": "code",
   "execution_count": null,
   "metadata": {},
   "outputs": [],
   "source": [
    "# # *** ORIGINAL PULL THAT WORKS ***\n",
    "# # Define parameters for street view api\n",
    "# params = [{\n",
    "#     'size': '600x300', # max 640x640 pixels\n",
    "#     'location': '41.9295582,-87.7159139',\n",
    "#     'heading': '90',\n",
    "#     'pitch': '-0.76',\n",
    "#     'key': gkey\n",
    "# }]\n",
    "\n",
    "# # Create a results object\n",
    "# results = google_streetview.api.results(params)\n",
    "\n",
    "# # Download images to directory 'downloads'\n",
    "# results.download_links('static/data/raw')"
   ]
  },
  {
   "cell_type": "code",
   "execution_count": null,
   "metadata": {},
   "outputs": [],
   "source": [
    "## PRACTICING IMAGE PRE-PROCESSING\n",
    "\n",
    "# # load and show an image with Pillow\n",
    "\n",
    "# # load the image\n",
    "# image = Image.open('static/data/test/brickornot.jpg')\n",
    "# # summarize some details about the image\n",
    "# print(image.format)\n",
    "# print(image.mode)\n",
    "# print(image.size)\n",
    "# # show the image\n",
    "# image.show()"
   ]
  },
  {
   "cell_type": "code",
   "execution_count": null,
   "metadata": {},
   "outputs": [],
   "source": [
    "'''# load all images in a directory\n",
    "loaded_images = list()\n",
    "for filename in listdir('images'):\n",
    "\t# load image\n",
    "\timg_data = image.imread('images/' + filename)\n",
    "\t# store loaded image\n",
    "\tloaded_images.append(img_data)\n",
    "\tprint('> loaded %s %s' % (filename, img_data.shape))'''\n"
   ]
  },
  {
   "cell_type": "code",
   "execution_count": null,
   "metadata": {},
   "outputs": [],
   "source": [
    "%matplotlib inline\n",
    "import PIL\n",
    "from PIL import Image\n",
    "from os import listdir\n",
    "from matplotlib import image\n",
    "from matplotlib import pyplot\n",
    "\n",
    "# example of saving a grayscale version of a loaded image\n",
    "from PIL import Image\n",
    "# load the image\n",
    "image = Image.open('static/data/raw/gsv_0.jpg')\n",
    "# convert the image to grayscale\n",
    "gs_image = image.convert(mode='L')\n",
    "# report the size of the image\n",
    "print(image.size)\n",
    "# create a thumbnail and preserve aspect ratio\n",
    "image.thumbnail((100,100))\n",
    "# report the size of the thumbnail\n",
    "print(image.size)\n",
    "# save in jpeg format\n",
    "gs_image.save('static/data/test_convert/gsv_0.jpg')"
   ]
  },
  {
   "cell_type": "code",
   "execution_count": null,
   "metadata": {},
   "outputs": [],
   "source": [
    "# load the image again and show it\n",
    "image2 = Image.open('static/data/test_convert/gsv_0.jpg')\n",
    "# show the image\n",
    "image2.show()"
   ]
  },
  {
   "cell_type": "code",
   "execution_count": null,
   "metadata": {},
   "outputs": [],
   "source": []
  },
  {
   "cell_type": "code",
   "execution_count": null,
   "metadata": {},
   "outputs": [],
   "source": [
    "'''# save as PNG format\n",
    "image.save('opera_house.png', format='PNG')\n",
    "# load the image again and inspect the format\n",
    "image2 = Image.open('opera_house.png')\n",
    "print(image2.format)'''"
   ]
  }
 ],
 "metadata": {
  "kernelspec": {
   "display_name": "Python 3",
   "language": "python",
   "name": "python3"
  },
  "language_info": {
   "codemirror_mode": {
    "name": "ipython",
    "version": 3
   },
   "file_extension": ".py",
   "mimetype": "text/x-python",
   "name": "python",
   "nbconvert_exporter": "python",
   "pygments_lexer": "ipython3",
   "version": "3.7.6"
  }
 },
 "nbformat": 4,
 "nbformat_minor": 4
}
