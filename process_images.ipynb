{
 "cells": [
  {
   "cell_type": "code",
   "execution_count": 9,
   "metadata": {},
   "outputs": [],
   "source": [
    "import pandas as pd\n",
    "from pandas import DataFrame\n",
    "import os\n",
    "from geopy import geocoders\n",
    "from geopy.geocoders import GoogleV3\n",
    "from config import gkey\n",
    "\n",
    "adresses = [\"2620 N Drake Ave, Chicago, Illinois 60647\",\n",
    "         \"2622 N Drake Ave, Chicago, Illinois 60647\",\n",
    "         \"2626 N Drake Ave, Chicago, Illinois 60647\",\n",
    "         \"2630 N Drake Ave, Chicago, Illinois 60647\",\n",
    "         \"2648 N Drake Ave, Chicago, Illinois 60647\"]"
   ]
  },
  {
   "cell_type": "code",
   "execution_count": 10,
   "metadata": {},
   "outputs": [
    {
     "data": {
      "text/html": [
       "<div>\n",
       "<style scoped>\n",
       "    .dataframe tbody tr th:only-of-type {\n",
       "        vertical-align: middle;\n",
       "    }\n",
       "\n",
       "    .dataframe tbody tr th {\n",
       "        vertical-align: top;\n",
       "    }\n",
       "\n",
       "    .dataframe thead th {\n",
       "        text-align: right;\n",
       "    }\n",
       "</style>\n",
       "<table border=\"1\" class=\"dataframe\">\n",
       "  <thead>\n",
       "    <tr style=\"text-align: right;\">\n",
       "      <th></th>\n",
       "      <th>Address</th>\n",
       "    </tr>\n",
       "  </thead>\n",
       "  <tbody>\n",
       "    <tr>\n",
       "      <th>0</th>\n",
       "      <td>2620 N Drake Ave, Chicago, Illinois 60647</td>\n",
       "    </tr>\n",
       "    <tr>\n",
       "      <th>1</th>\n",
       "      <td>2622 N Drake Ave, Chicago, Illinois 60647</td>\n",
       "    </tr>\n",
       "    <tr>\n",
       "      <th>2</th>\n",
       "      <td>2626 N Drake Ave, Chicago, Illinois 60647</td>\n",
       "    </tr>\n",
       "    <tr>\n",
       "      <th>3</th>\n",
       "      <td>2630 N Drake Ave, Chicago, Illinois 60647</td>\n",
       "    </tr>\n",
       "    <tr>\n",
       "      <th>4</th>\n",
       "      <td>2648 N Drake Ave, Chicago, Illinois 60647</td>\n",
       "    </tr>\n",
       "  </tbody>\n",
       "</table>\n",
       "</div>"
      ],
      "text/plain": [
       "                                     Address\n",
       "0  2620 N Drake Ave, Chicago, Illinois 60647\n",
       "1  2622 N Drake Ave, Chicago, Illinois 60647\n",
       "2  2626 N Drake Ave, Chicago, Illinois 60647\n",
       "3  2630 N Drake Ave, Chicago, Illinois 60647\n",
       "4  2648 N Drake Ave, Chicago, Illinois 60647"
      ]
     },
     "execution_count": 10,
     "metadata": {},
     "output_type": "execute_result"
    }
   ],
   "source": [
    "df = DataFrame (adresses, columns=['Address'])\n",
    "df"
   ]
  },
  {
   "cell_type": "code",
   "execution_count": 11,
   "metadata": {},
   "outputs": [
    {
     "data": {
      "text/html": [
       "<div>\n",
       "<style scoped>\n",
       "    .dataframe tbody tr th:only-of-type {\n",
       "        vertical-align: middle;\n",
       "    }\n",
       "\n",
       "    .dataframe tbody tr th {\n",
       "        vertical-align: top;\n",
       "    }\n",
       "\n",
       "    .dataframe thead th {\n",
       "        text-align: right;\n",
       "    }\n",
       "</style>\n",
       "<table border=\"1\" class=\"dataframe\">\n",
       "  <thead>\n",
       "    <tr style=\"text-align: right;\">\n",
       "      <th></th>\n",
       "      <th>coordinate</th>\n",
       "      <th>address</th>\n",
       "    </tr>\n",
       "  </thead>\n",
       "  <tbody>\n",
       "    <tr>\n",
       "      <th>0</th>\n",
       "      <td>(41.9288822, -87.7161617)</td>\n",
       "      <td>2620 N Drake Ave, Chicago, Illinois 60647</td>\n",
       "    </tr>\n",
       "    <tr>\n",
       "      <th>1</th>\n",
       "      <td>(41.9289991, -87.7162002)</td>\n",
       "      <td>2622 N Drake Ave, Chicago, Illinois 60647</td>\n",
       "    </tr>\n",
       "    <tr>\n",
       "      <th>2</th>\n",
       "      <td>(41.9290774, -87.71623869999999)</td>\n",
       "      <td>2626 N Drake Ave, Chicago, Illinois 60647</td>\n",
       "    </tr>\n",
       "    <tr>\n",
       "      <th>3</th>\n",
       "      <td>(41.9291928, -87.7162002)</td>\n",
       "      <td>2630 N Drake Ave, Chicago, Illinois 60647</td>\n",
       "    </tr>\n",
       "    <tr>\n",
       "      <th>4</th>\n",
       "      <td>(41.92968949999999, -87.7162487)</td>\n",
       "      <td>2648 N Drake Ave, Chicago, Illinois 60647</td>\n",
       "    </tr>\n",
       "  </tbody>\n",
       "</table>\n",
       "</div>"
      ],
      "text/plain": [
       "                         coordinate                                    address\n",
       "0         (41.9288822, -87.7161617)  2620 N Drake Ave, Chicago, Illinois 60647\n",
       "1         (41.9289991, -87.7162002)  2622 N Drake Ave, Chicago, Illinois 60647\n",
       "2  (41.9290774, -87.71623869999999)  2626 N Drake Ave, Chicago, Illinois 60647\n",
       "3         (41.9291928, -87.7162002)  2630 N Drake Ave, Chicago, Illinois 60647\n",
       "4  (41.92968949999999, -87.7162487)  2648 N Drake Ave, Chicago, Illinois 60647"
      ]
     },
     "execution_count": 11,
     "metadata": {},
     "output_type": "execute_result"
    }
   ],
   "source": [
    "API_KEY = os.getenv(\"API1234\")\n",
    "g = GoogleV3(api_key=gkey)\n",
    "\n",
    "\n",
    "loc_coordinates = []\n",
    "loc_address = []\n",
    "for address in df.Address:\n",
    "    try:\n",
    "        inputAddress = address\n",
    "        location = g.geocode(inputAddress, timeout=15)\n",
    "        loc_coordinates.append((location.latitude, location.longitude))\n",
    "        loc_address.append(inputAddress)\n",
    "    except Exception as e:\n",
    "        print('Error, skipping address...', e)\n",
    "\n",
    "\n",
    "df_geocodes = pd.DataFrame({'coordinate':loc_coordinates,'address':loc_address})\n",
    "df_geocodes"
   ]
  },
  {
   "cell_type": "code",
   "execution_count": null,
   "metadata": {},
   "outputs": [],
   "source": [
    "import urllib.request, urllib.parse \n",
    "import requests\n",
    "from requests.utils import requote_uri\n",
    "import json\n",
    "# Import google_streetview for the api module\n",
    "import google_streetview.api\n",
    "\n",
    "\n",
    "# Define parameters for street view api\n",
    "params = [{\n",
    "    'size': '600x300', # max 640x640 pixels\n",
    "    'location': '41.9295582,-87.7159139',\n",
    "    'heading': '90',\n",
    "    'pitch': '-0.76',\n",
    "    'key': gkey\n",
    "}]\n",
    "\n",
    "# Create a results object\n",
    "results = google_streetview.api.results(params)\n",
    "\n",
    "# Download images to directory 'downloads'\n",
    "results.download_links('static/data/raw')"
   ]
  },
  {
   "cell_type": "code",
   "execution_count": null,
   "metadata": {},
   "outputs": [],
   "source": [
    "# GRAB A SERIES OF STREET VIEW IMAGES FROM ADDRESSES PROVIDED\n",
    "'''\n",
    "myloc = \"static/data/raw\"\n",
    "key = key = \"&key=\" + \"gkey\"\n",
    "def GetStreet(Add,SaveLoc):\n",
    "    base = \"https://maps.googleapis.com/maps/api/streetview?size=1200x800&location=\"\n",
    "    #MyUrl = base + urllib.parse.quote_plus(Add) + key  #added url encoding\n",
    "    MyUrl = base + requote_uri(Add) + key  #added url encoding\n",
    "    fi = Add + \".jpg\"\n",
    "    requests.get(MyUrl, os.path.join(SaveLoc,fi), stream=True, headers={'User-agent': 'Mozilla/5.0'})\n",
    "  \n",
    "\n",
    "Tests = [\"2620 N Drake Ave, Chicago, Illinois 60647\",\n",
    "         \"2622 N Drake Ave, Chicago, Illinois 60647\",\n",
    "         \"2626 N Drake Ave, Chicago, Illinois 60647\",\n",
    "         \"2630 N Drake Ave, Chicago, Illinois 60647\",\n",
    "         \"2648 N Drake Ave, Chicago, Illinois 60647\"]\n",
    "\n",
    "for i in Tests:\n",
    " GetStreet(Add=i,SaveLoc=myloc)\n",
    "''' \n",
    "  \n",
    "    "
   ]
  },
  {
   "cell_type": "code",
   "execution_count": null,
   "metadata": {},
   "outputs": [],
   "source": [
    "\n",
    "'''\n",
    "# load and show an image with Pillow\n",
    "\n",
    "# load the image\n",
    "image = Image.open('static/data/test/brickornot.jpg')\n",
    "# summarize some details about the image\n",
    "print(image.format)\n",
    "print(image.mode)\n",
    "print(image.size)\n",
    "# show the image\n",
    "image.show()'''"
   ]
  },
  {
   "cell_type": "code",
   "execution_count": null,
   "metadata": {},
   "outputs": [],
   "source": [
    "'''# load all images in a directory\n",
    "loaded_images = list()\n",
    "for filename in listdir('images'):\n",
    "\t# load image\n",
    "\timg_data = image.imread('images/' + filename)\n",
    "\t# store loaded image\n",
    "\tloaded_images.append(img_data)\n",
    "\tprint('> loaded %s %s' % (filename, img_data.shape))'''\n"
   ]
  },
  {
   "cell_type": "code",
   "execution_count": null,
   "metadata": {},
   "outputs": [],
   "source": [
    "%matplotlib inline\n",
    "import PIL\n",
    "from PIL import Image\n",
    "from os import listdir\n",
    "from matplotlib import image\n",
    "from matplotlib import pyplot\n",
    "\n",
    "# example of saving a grayscale version of a loaded image\n",
    "from PIL import Image\n",
    "# load the image\n",
    "image = Image.open('static/data/test/brickornot.jpg')\n",
    "# convert the image to grayscale\n",
    "gs_image = image.convert(mode='L')\n",
    "# report the size of the image\n",
    "print(image.size)\n",
    "# create a thumbnail and preserve aspect ratio\n",
    "image.thumbnail((100,100))\n",
    "# report the size of the thumbnail\n",
    "print(image.size)\n",
    "# save in jpeg format\n",
    "gs_image.save('static/data/test_convert/brickornot.jpg')"
   ]
  },
  {
   "cell_type": "code",
   "execution_count": null,
   "metadata": {},
   "outputs": [],
   "source": [
    "# load the image again and show it\n",
    "image2 = Image.open('static/data/test_convert/brickornot.jpg')\n",
    "# show the image\n",
    "image2.show()"
   ]
  },
  {
   "cell_type": "code",
   "execution_count": null,
   "metadata": {},
   "outputs": [],
   "source": []
  },
  {
   "cell_type": "code",
   "execution_count": null,
   "metadata": {},
   "outputs": [],
   "source": [
    "'''# save as PNG format\n",
    "image.save('opera_house.png', format='PNG')\n",
    "# load the image again and inspect the format\n",
    "image2 = Image.open('opera_house.png')\n",
    "print(image2.format)'''"
   ]
  }
 ],
 "metadata": {
  "kernelspec": {
   "display_name": "Python 3",
   "language": "python",
   "name": "python3"
  },
  "language_info": {
   "codemirror_mode": {
    "name": "ipython",
    "version": 3
   },
   "file_extension": ".py",
   "mimetype": "text/x-python",
   "name": "python",
   "nbconvert_exporter": "python",
   "pygments_lexer": "ipython3",
   "version": "3.7.6"
  }
 },
 "nbformat": 4,
 "nbformat_minor": 4
}
