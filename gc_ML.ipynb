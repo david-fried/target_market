{
 "cells": [
  {
   "cell_type": "code",
   "execution_count": null,
   "metadata": {},
   "outputs": [],
   "source": [
    "from PIL import Image # used for loading images\n",
    "import numpy as np\n",
    "import os # used for navigating to image path\n",
    "import imageio # used for writing images\n"
   ]
  },
  {
   "cell_type": "code",
   "execution_count": null,
   "metadata": {},
   "outputs": [],
   "source": [
    "# CHANGE IMG CLASS TO NUMPY\n",
    "    #10_34.jpg\n",
    "    #10_34.jpg---->10-----> [1,0]\n",
    "    #20_550.jpg---->20-----> [0,1]\n",
    "def label_img(name):\n",
    "    \n",
    "  word_label = name.split('_')[0]\n",
    "  if word_label == '10' : return np.array([1, 0])\n",
    "  elif word_label == '20' : return np.array([0, 1])"
   ]
  },
  {
   "cell_type": "code",
   "execution_count": null,
   "metadata": {},
   "outputs": [],
   "source": [
    "# PRE SIZE\n",
    "def get_size_statistics(DIR):\n",
    "  heights = []\n",
    "  widths = []\n",
    "  for img in os.listdir(DIR): \n",
    "    path = os.path.join(DIR, img)\n",
    "    data = np.array(Image.open(path)) #PIL Image library\n",
    "    heights.append(data.shape[0])\n",
    "    widths.append(data.shape[1])\n",
    "  avg_height = sum(heights) / len(heights)\n",
    "  avg_width = sum(widths) / len(widths)\n",
    "  print(\"Average Height: \" + str(avg_height))\n",
    "  print(\"Max Height: \" + str(max(heights)))\n",
    "  print(\"Min Height: \" + str(min(heights)))\n",
    "  print('\\n')\n",
    "  print(\"Average Width: \" + str(avg_width))\n",
    "  print(\"Max Width: \" + str(max(widths)))\n",
    "  print(\"Min Width: \" + str(min(widths)))"
   ]
  },
  {
   "cell_type": "code",
   "execution_count": null,
   "metadata": {},
   "outputs": [],
   "source": [
    "IMG_SIZE = 400\n",
    "\n",
    "def load_training_data():\n",
    "  train_data = []\n",
    "  for img in os.listdir(DIR)\n",
    "    label = label_img(img)\n",
    "    path = os.path.join(DIR, img)\n",
    "    img = Image.open(path)\n",
    "    img = img.convert('L')\n",
    "    img = img.resize((IMG_SIZE, IMG_SIZE), Image.ANTIALIAS)\n",
    "    train_data.append([np.array(img), label])\n",
    "    # Basic Data Augmentation - Horizontal Flipping\n",
    "    flip_img = Image.open(path)\n",
    "    flip_img = flip_img.convert('L')\n",
    "    flip_img = flip_img.resize((IMG_SIZE, IMG_SIZE), Image.ANTIALIAS)\n",
    "    flip_img = np.array(flip_img)\n",
    "    flip_img = np.fliplr(flip_img)\n",
    "    train_data.append([flip_img, label])\n",
    "  shuffle(train_data)\n",
    "  return train_data"
   ]
  },
  {
   "cell_type": "code",
   "execution_count": null,
   "metadata": {},
   "outputs": [],
   "source": [
    "train_data = load_training_data()\n",
    "plt.imshow(train_data[43][0], cmap = 'gist_gray')"
   ]
  }
 ],
 "metadata": {
  "kernelspec": {
   "display_name": "Python 3",
   "language": "python",
   "name": "python3"
  },
  "language_info": {
   "codemirror_mode": {
    "name": "ipython",
    "version": 3
   },
   "file_extension": ".py",
   "mimetype": "text/x-python",
   "name": "python",
   "nbconvert_exporter": "python",
   "pygments_lexer": "ipython3",
   "version": "3.7.6"
  }
 },
 "nbformat": 4,
 "nbformat_minor": 4
}
