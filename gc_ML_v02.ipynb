{
 "cells": [
  {
   "cell_type": "markdown",
   "metadata": {},
   "source": [
    "# This ML script would not have been possible without inspiration from, github user ***'wiamsuri'*** and their project ***'cnn-image-classifier-keras'***"
   ]
  },
  {
   "cell_type": "code",
   "execution_count": 1,
   "metadata": {},
   "outputs": [],
   "source": [
    "from sklearn.datasets import load_files\n",
    "from sklearn.model_selection import train_test_split\n",
    "import numpy as np\n",
    "from glob import glob\n",
    "# from PIL import ImageFile\n",
    "import random\n",
    "from tqdm import tqdm\n",
    "from keras.preprocessing import image\n",
    "from keras.utils import np_utils\n",
    "from keras.layers import Conv2D, MaxPooling2D, GlobalAveragePooling2D\n",
    "from keras.layers import Dropout, Flatten, Dense\n",
    "from keras.models import Sequential\n",
    "from keras.callbacks import ModelCheckpoint\n",
    "import matplotlib.pyplot as plt\n",
    "from skimage.transform import resize\n",
    "import os\n",
    "import pandas as pd"
   ]
  },
  {
   "cell_type": "markdown",
   "metadata": {},
   "source": [
    "# Load Images From File"
   ]
  },
  {
   "cell_type": "code",
   "execution_count": 2,
   "metadata": {},
   "outputs": [
    {
     "name": "stdout",
     "output_type": "stream",
     "text": [
      "3 image categories.\n",
      "Three categories:\n",
      "['brick_10/', 'siding_20/', 'unknown_00/']\n"
     ]
    }
   ],
   "source": [
    "image_names = [item.replace('resources/data_for_training_05/', '') for item in sorted(glob(\"resources/data_for_training_05/*/\"))]\n",
    "number_of_image_categories = len(image_names)\n",
    "print('%d image categories.' % number_of_image_categories)\n",
    "print('Three categories:')\n",
    "print(image_names[:3])"
   ]
  },
  {
   "cell_type": "code",
   "execution_count": 3,
   "metadata": {},
   "outputs": [
    {
     "name": "stdout",
     "output_type": "stream",
     "text": [
      "3915 images.\n",
      "\n",
      "2349 training images.\n",
      "783 validation images.\n",
      "783 test images.\n"
     ]
    }
   ],
   "source": [
    "def load_dataset(path):\n",
    "    data = load_files(path)\n",
    "    image_files = np.array(data['filenames'])\n",
    "    image_targets = np_utils.to_categorical(np.array(data['target']), number_of_image_categories)\n",
    "    return image_files, image_targets\n",
    "\n",
    "\n",
    "image_files, image_targets = load_dataset('resources/data_for_training_05/')\n",
    "\n",
    "trains_validate_files, test_files, trains_validate_targets, test_targets = \\\n",
    "    train_test_split(image_files, image_targets, test_size=0.2, random_state=42)\n",
    "\n",
    "train_files, valid_files, train_targets, valid_targets = \\\n",
    "    train_test_split(trains_validate_files, trains_validate_targets, test_size=0.25, random_state=42)\n",
    "\n",
    "image_names = [item[20:-1] for item in sorted(glob(\"resources/data_for_training_05/*/\"))]\n",
    "\n",
    "print('%s images.\\n' % len(np.hstack([train_files, valid_files, test_files])))\n",
    "print('%d training images.' % len(train_files))\n",
    "print('%d validation images.' % len(valid_files))\n",
    "print('%d test images.'% len(test_files))"
   ]
  },
  {
   "cell_type": "markdown",
   "metadata": {},
   "source": [
    "# Define function for preprocessing images"
   ]
  },
  {
   "cell_type": "code",
   "execution_count": 4,
   "metadata": {},
   "outputs": [],
   "source": [
    "def path_to_tensor(img_path):\n",
    "\n",
    "    img = image.load_img(img_path, grayscale=False, color_mode=\"rgb\", target_size=(400, 400), interpolation=\"nearest\")\n",
    "    img_array = image.img_to_array(img)\n",
    "\n",
    "    return np.expand_dims(img_array, axis=0)\n",
    "\n",
    "def paths_to_tensor(img_paths):\n",
    "    \n",
    "    list_of_tensors = [path_to_tensor(img_path) for img_path in tqdm(img_paths)]\n",
    "    return np.vstack(list_of_tensors)"
   ]
  },
  {
   "cell_type": "markdown",
   "metadata": {},
   "source": [
    "# Preprocess images"
   ]
  },
  {
   "cell_type": "code",
   "execution_count": 5,
   "metadata": {
    "scrolled": true
   },
   "outputs": [
    {
     "name": "stderr",
     "output_type": "stream",
     "text": [
      "100%|██████████| 2349/2349 [00:44<00:00, 53.13it/s]\n",
      "100%|██████████| 783/783 [00:17<00:00, 44.60it/s]\n",
      "100%|██████████| 783/783 [00:10<00:00, 76.29it/s]\n"
     ]
    }
   ],
   "source": [
    "from PIL import ImageFile                            \n",
    "ImageFile.LOAD_TRUNCATED_IMAGES = True                 \n",
    "\n",
    "# pre-process the data for Keras\n",
    "train_tensors = paths_to_tensor(train_files).astype('float32')/255\n",
    "valid_tensors = paths_to_tensor(valid_files).astype('float32')/255\n",
    "test_tensors = paths_to_tensor(test_files).astype('float32')/255"
   ]
  },
  {
   "cell_type": "markdown",
   "metadata": {},
   "source": [
    "# Build Model"
   ]
  },
  {
   "cell_type": "code",
   "execution_count": 6,
   "metadata": {},
   "outputs": [
    {
     "name": "stdout",
     "output_type": "stream",
     "text": [
      "Model: \"sequential\"\n",
      "_________________________________________________________________\n",
      "Layer (type)                 Output Shape              Param #   \n",
      "=================================================================\n",
      "conv2d (Conv2D)              (None, 400, 400, 4)       52        \n",
      "_________________________________________________________________\n",
      "max_pooling2d (MaxPooling2D) (None, 200, 200, 4)       0         \n",
      "_________________________________________________________________\n",
      "conv2d_1 (Conv2D)            (None, 200, 200, 8)       136       \n",
      "_________________________________________________________________\n",
      "max_pooling2d_1 (MaxPooling2 (None, 100, 100, 8)       0         \n",
      "_________________________________________________________________\n",
      "dropout (Dropout)            (None, 100, 100, 8)       0         \n",
      "_________________________________________________________________\n",
      "conv2d_2 (Conv2D)            (None, 100, 100, 12)      396       \n",
      "_________________________________________________________________\n",
      "max_pooling2d_2 (MaxPooling2 (None, 50, 50, 12)        0         \n",
      "_________________________________________________________________\n",
      "dropout_1 (Dropout)          (None, 50, 50, 12)        0         \n",
      "_________________________________________________________________\n",
      "conv2d_3 (Conv2D)            (None, 50, 50, 16)        784       \n",
      "_________________________________________________________________\n",
      "max_pooling2d_3 (MaxPooling2 (None, 25, 25, 16)        0         \n",
      "_________________________________________________________________\n",
      "dropout_2 (Dropout)          (None, 25, 25, 16)        0         \n",
      "_________________________________________________________________\n",
      "flatten (Flatten)            (None, 10000)             0         \n",
      "_________________________________________________________________\n",
      "dense (Dense)                (None, 256)               2560256   \n",
      "_________________________________________________________________\n",
      "dropout_3 (Dropout)          (None, 256)               0         \n",
      "_________________________________________________________________\n",
      "dense_1 (Dense)              (None, 3)                 771       \n",
      "=================================================================\n",
      "Total params: 2,562,395\n",
      "Trainable params: 2,562,395\n",
      "Non-trainable params: 0\n",
      "_________________________________________________________________\n"
     ]
    }
   ],
   "source": [
    "model = Sequential()\n",
    "\n",
    "model.add(Conv2D(filters=4, kernel_size=2, padding='same',\n",
    "                 activation='relu', input_shape=(400, 400, 3)))\n",
    "model.add(MaxPooling2D(pool_size=2))\n",
    "\n",
    "model.add(Conv2D(filters=8, kernel_size=2, padding='same', activation='relu'))\n",
    "model.add(MaxPooling2D(pool_size=2))\n",
    "model.add(Dropout(0.1))\n",
    "\n",
    "model.add(Conv2D(filters=12, kernel_size=2, padding='same', activation='relu'))\n",
    "model.add(MaxPooling2D(pool_size=2))\n",
    "model.add(Dropout(0.2))\n",
    "\n",
    "model.add(Conv2D(filters=16, kernel_size=2, padding='same', activation='relu'))\n",
    "model.add(MaxPooling2D(pool_size=2))\n",
    "model.add(Dropout(0.3))\n",
    "\n",
    "\n",
    "\n",
    "model.add(Flatten())\n",
    "\n",
    "model.add(Dense(256, activation='relu'))\n",
    "model.add(Dropout(0.4))\n",
    "\n",
    "model.add(Dense(3, activation='softmax'))\n",
    "\n",
    "\n",
    "model.summary()\n",
    "\n",
    "model.compile(optimizer='rmsprop', loss='categorical_crossentropy', metrics=['accuracy'])"
   ]
  },
  {
   "cell_type": "markdown",
   "metadata": {},
   "source": [
    "# Train the model with training and validating images"
   ]
  },
  {
   "cell_type": "code",
   "execution_count": 7,
   "metadata": {},
   "outputs": [
    {
     "name": "stdout",
     "output_type": "stream",
     "text": [
      "Epoch 1/15\n",
      "37/37 [==============================] - ETA: 0s - loss: 1.7325 - accuracy: 0.4321\n",
      "Epoch 00001: val_loss improved from inf to 1.01546, saving model to saved_models/weights.best.image_classifier.hdf5\n",
      "37/37 [==============================] - 147s 4s/step - loss: 1.7325 - accuracy: 0.4321 - val_loss: 1.0155 - val_accuracy: 0.5990\n",
      "Epoch 2/15\n",
      "37/37 [==============================] - ETA: 0s - loss: 0.9744 - accuracy: 0.5143\n",
      "Epoch 00002: val_loss did not improve from 1.01546\n",
      "37/37 [==============================] - 102s 3s/step - loss: 0.9744 - accuracy: 0.5143 - val_loss: 1.0240 - val_accuracy: 0.5773\n",
      "Epoch 3/15\n",
      "37/37 [==============================] - ETA: 0s - loss: 0.9368 - accuracy: 0.5517\n",
      "Epoch 00003: val_loss did not improve from 1.01546\n",
      "37/37 [==============================] - 107s 3s/step - loss: 0.9368 - accuracy: 0.5517 - val_loss: 1.0259 - val_accuracy: 0.5785\n",
      "Epoch 4/15\n",
      "37/37 [==============================] - ETA: 0s - loss: 0.8972 - accuracy: 0.5896\n",
      "Epoch 00004: val_loss improved from 1.01546 to 1.00186, saving model to saved_models/weights.best.image_classifier.hdf5\n",
      "37/37 [==============================] - 102s 3s/step - loss: 0.8972 - accuracy: 0.5896 - val_loss: 1.0019 - val_accuracy: 0.5760\n",
      "Epoch 5/15\n",
      "37/37 [==============================] - ETA: 0s - loss: 0.8586 - accuracy: 0.6096\n",
      "Epoch 00005: val_loss improved from 1.00186 to 0.99370, saving model to saved_models/weights.best.image_classifier.hdf5\n",
      "37/37 [==============================] - 105s 3s/step - loss: 0.8586 - accuracy: 0.6096 - val_loss: 0.9937 - val_accuracy: 0.6117\n",
      "Epoch 6/15\n",
      "37/37 [==============================] - ETA: 0s - loss: 0.8222 - accuracy: 0.6271\n",
      "Epoch 00006: val_loss improved from 0.99370 to 0.91755, saving model to saved_models/weights.best.image_classifier.hdf5\n",
      "37/37 [==============================] - 105s 3s/step - loss: 0.8222 - accuracy: 0.6271 - val_loss: 0.9175 - val_accuracy: 0.6769\n",
      "Epoch 7/15\n",
      "37/37 [==============================] - ETA: 0s - loss: 0.7883 - accuracy: 0.6484\n",
      "Epoch 00007: val_loss improved from 0.91755 to 0.87031, saving model to saved_models/weights.best.image_classifier.hdf5\n",
      "37/37 [==============================] - 104s 3s/step - loss: 0.7883 - accuracy: 0.6484 - val_loss: 0.8703 - val_accuracy: 0.6692\n",
      "Epoch 8/15\n",
      "37/37 [==============================] - ETA: 0s - loss: 0.7177 - accuracy: 0.6935\n",
      "Epoch 00008: val_loss improved from 0.87031 to 0.83635, saving model to saved_models/weights.best.image_classifier.hdf5\n",
      "37/37 [==============================] - 106s 3s/step - loss: 0.7177 - accuracy: 0.6935 - val_loss: 0.8364 - val_accuracy: 0.6756\n",
      "Epoch 9/15\n",
      "37/37 [==============================] - ETA: 0s - loss: 0.6771 - accuracy: 0.7152\n",
      "Epoch 00009: val_loss did not improve from 0.83635\n",
      "37/37 [==============================] - 105s 3s/step - loss: 0.6771 - accuracy: 0.7152 - val_loss: 0.8460 - val_accuracy: 0.6577\n",
      "Epoch 10/15\n",
      "37/37 [==============================] - ETA: 0s - loss: 0.6427 - accuracy: 0.7309\n",
      "Epoch 00010: val_loss improved from 0.83635 to 0.64841, saving model to saved_models/weights.best.image_classifier.hdf5\n",
      "37/37 [==============================] - 109s 3s/step - loss: 0.6427 - accuracy: 0.7309 - val_loss: 0.6484 - val_accuracy: 0.7369\n",
      "Epoch 11/15\n",
      "37/37 [==============================] - ETA: 0s - loss: 0.6221 - accuracy: 0.7399\n",
      "Epoch 00011: val_loss did not improve from 0.64841\n",
      "37/37 [==============================] - 103s 3s/step - loss: 0.6221 - accuracy: 0.7399 - val_loss: 0.7494 - val_accuracy: 0.6973\n",
      "Epoch 12/15\n",
      "37/37 [==============================] - ETA: 0s - loss: 0.5611 - accuracy: 0.7671\n",
      "Epoch 00012: val_loss improved from 0.64841 to 0.64263, saving model to saved_models/weights.best.image_classifier.hdf5\n",
      "37/37 [==============================] - 101s 3s/step - loss: 0.5611 - accuracy: 0.7671 - val_loss: 0.6426 - val_accuracy: 0.7407\n",
      "Epoch 13/15\n",
      "37/37 [==============================] - ETA: 0s - loss: 0.5207 - accuracy: 0.7935\n",
      "Epoch 00013: val_loss improved from 0.64263 to 0.58452, saving model to saved_models/weights.best.image_classifier.hdf5\n",
      "37/37 [==============================] - 105s 3s/step - loss: 0.5207 - accuracy: 0.7935 - val_loss: 0.5845 - val_accuracy: 0.7625\n",
      "Epoch 14/15\n",
      "37/37 [==============================] - ETA: 0s - loss: 0.4829 - accuracy: 0.8101\n",
      "Epoch 00014: val_loss improved from 0.58452 to 0.54342, saving model to saved_models/weights.best.image_classifier.hdf5\n",
      "37/37 [==============================] - 105s 3s/step - loss: 0.4829 - accuracy: 0.8101 - val_loss: 0.5434 - val_accuracy: 0.7625\n",
      "Epoch 15/15\n",
      "37/37 [==============================] - ETA: 0s - loss: 0.4515 - accuracy: 0.8191\n",
      "Epoch 00015: val_loss did not improve from 0.54342\n",
      "37/37 [==============================] - 101s 3s/step - loss: 0.4515 - accuracy: 0.8191 - val_loss: 0.5909 - val_accuracy: 0.7573\n"
     ]
    }
   ],
   "source": [
    "epochs = 15\n",
    "\n",
    "checkpointer = ModelCheckpoint(filepath='saved_models/weights.best.image_classifier.hdf5',\n",
    "                               verbose=1, save_best_only=True)\n",
    "\n",
    "history = model.fit(train_tensors, train_targets, validation_data=(valid_tensors, valid_targets),\n",
    "          epochs=epochs, batch_size=64, callbacks=[checkpointer], verbose=1)"
   ]
  },
  {
   "cell_type": "code",
   "execution_count": 8,
   "metadata": {},
   "outputs": [
    {
     "name": "stdout",
     "output_type": "stream",
     "text": [
      "Test accuracy: 76.8838%\n"
     ]
    }
   ],
   "source": [
    "model.load_weights('saved_models/weights.best.image_classifier.hdf5')\n",
    "\n",
    "predictions = [np.argmax(model.predict(np.expand_dims(tensor, axis=0))) for tensor in test_tensors]\n",
    "\n",
    "test_accuracy = 100*np.sum(np.array(predictions)==np.argmax(test_targets, axis=1))/len(predictions)\n",
    "print('Test accuracy: %.4f%%' % test_accuracy)"
   ]
  },
  {
   "cell_type": "code",
   "execution_count": 9,
   "metadata": {},
   "outputs": [
    {
     "name": "stdout",
     "output_type": "stream",
     "text": [
      "_6672.jpg:\t 57.0%\n",
      "_6673.jpg:\t 75.0%\n",
      "_81.jpg:\t 62.0%\n",
      "_7581.jpg:\t 66.0%\n",
      "_6675.jpg:\t 84.0%\n",
      "_6449.jpg:\t 39.0%\n",
      "_7839.jpg:\t 53.0%\n",
      "_7493.jpg:\t 74.0%\n",
      "_7135.jpg:\t 71.0%\n",
      "_5901.jpg:\t 33.0%\n",
      "_6819.jpg:\t 77.0%\n",
      "_5902.jpg:\t 55.0%\n",
      "_7494.jpg:\t 73.0%\n",
      "_7669.jpg:\t 58.0%\n",
      "_7664.jpg:\t 56.0%\n",
      "_7266.jpg:\t 90.0%\n",
      "_7488.jpg:\t 76.0%\n",
      "_7271.jpg:\t 45.0%\n",
      "_62.jpg:\t 76.0%\n",
      "_6450.jpg:\t 17.0%\n"
     ]
    }
   ],
   "source": [
    "for image in os.listdir('test_imgs'):\n",
    "    img = plt.imread('test_imgs' + '/' + image)\n",
    "    resized_image = resize(img, (400,400,3))\n",
    "    predictions = model.predict(np.array([resized_image]))\n",
    "#     print(f'{image}:\\t {predictions}')\n",
    "    print(f'{image}:\\t {round(100 * predictions[0][0])}%')"
   ]
  },
  {
   "cell_type": "code",
   "execution_count": null,
   "metadata": {},
   "outputs": [],
   "source": [
    "## OPTIONAL WRITE HISTORY TO JSON\n",
    "# with open('trainHistoryDict', 'wb') as file_pi:\n",
    "#         pickle.dump(history.history, file_pi)\n",
    "\n",
    "# history = pickle.load(open('/trainHistoryDict', \"rb\"))"
   ]
  },
  {
   "cell_type": "code",
   "execution_count": 10,
   "metadata": {},
   "outputs": [
    {
     "data": {
      "image/png": "[encoded data removed]",
      "text/plain": [
       "<Figure size 432x288 with 1 Axes>"
      ]
     },
     "metadata": {
      "needs_background": "light"
     },
     "output_type": "display_data"
    },
    {
     "data": {
      "text/plain": [
       "<Figure size 432x288 with 0 Axes>"
      ]
     },
     "metadata": {},
     "output_type": "display_data"
    }
   ],
   "source": [
    "# Plot history: \n",
    "plt.plot(history.history['loss'], label='(training data)')\n",
    "plt.plot(history.history['val_loss'], label='(validation data)')\n",
    "plt.title('Brick Guess')\n",
    "plt.ylabel('value')\n",
    "plt.xlabel('No. epoch')\n",
    "plt.legend(loc=\"upper right\")\n",
    "plt.show()\n",
    "plt.savefig('65pct.png')"
   ]
  },
  {
   "cell_type": "code",
   "execution_count": null,
   "metadata": {},
   "outputs": [],
   "source": []
  }
 ],
 "metadata": {
  "kernelspec": {
   "display_name": "Python 3",
   "language": "python",
   "name": "python3"
  },
  "language_info": {
   "codemirror_mode": {
    "name": "ipython",
    "version": 3
   },
   "file_extension": ".py",
   "mimetype": "text/x-python",
   "name": "python",
   "nbconvert_exporter": "python",
   "pygments_lexer": "ipython3",
   "version": "3.7.6"
  }
 },
 "nbformat": 4,
 "nbformat_minor": 4
}
