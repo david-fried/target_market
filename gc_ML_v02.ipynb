{
 "cells": [
  {
   "cell_type": "markdown",
   "metadata": {},
   "source": [
    "# This ML script would not have been possible without inspiration from, github user ***'wiamsuri'*** and their project ***'cnn-image-classifier-keras'***"
   ]
  },
  {
   "cell_type": "code",
   "execution_count": 1,
   "metadata": {},
   "outputs": [],
   "source": [
    "from sklearn.datasets import load_files\n",
    "from sklearn.model_selection import train_test_split\n",
    "import numpy as np\n",
    "from glob import glob\n",
    "# from PIL import ImageFile\n",
    "import random\n",
    "from tqdm import tqdm\n",
    "from keras.preprocessing import image\n",
    "from keras.utils import np_utils\n",
    "from keras.layers import Conv2D, MaxPooling2D, GlobalAveragePooling2D\n",
    "from keras.layers import Dropout, Flatten, Dense\n",
    "from keras.models import Sequential\n",
    "from keras.callbacks import ModelCheckpoint\n",
    "import matplotlib.pyplot as plt"
   ]
  },
  {
   "cell_type": "markdown",
   "metadata": {},
   "source": [
    "# Load Images From File"
   ]
  },
  {
   "cell_type": "code",
   "execution_count": 2,
   "metadata": {},
   "outputs": [
    {
     "name": "stdout",
     "output_type": "stream",
     "text": [
      "3 image categories.\n",
      "Three categories:\n",
      "['brick_10/', 'siding_20/', 'unknown_00/']\n"
     ]
    }
   ],
   "source": [
    "image_names = [item.replace('resources/data_for_training_04/', '') for item in sorted(glob(\"resources/data_for_training_04/*/\"))]\n",
    "number_of_image_categories = len(image_names)\n",
    "print('%d image categories.' % number_of_image_categories)\n",
    "print('Three categories:')\n",
    "print(image_names[:3])"
   ]
  },
  {
   "cell_type": "code",
   "execution_count": 3,
   "metadata": {},
   "outputs": [
    {
     "name": "stdout",
     "output_type": "stream",
     "text": [
      "1915 images.\n",
      "\n",
      "1149 training images.\n",
      "383 validation images.\n",
      "383 test images.\n"
     ]
    }
   ],
   "source": [
    "def load_dataset(path):\n",
    "    data = load_files(path)\n",
    "    image_files = np.array(data['filenames'])\n",
    "    image_targets = np_utils.to_categorical(np.array(data['target']), number_of_image_categories)\n",
    "    return image_files, image_targets\n",
    "\n",
    "\n",
    "image_files, image_targets = load_dataset('resources/data_for_training_04/')\n",
    "\n",
    "trains_validate_files, test_files, trains_validate_targets, test_targets = \\\n",
    "    train_test_split(image_files, image_targets, test_size=0.2, random_state=42)\n",
    "\n",
    "train_files, valid_files, train_targets, valid_targets = \\\n",
    "    train_test_split(trains_validate_files, trains_validate_targets, test_size=0.25, random_state=42)\n",
    "\n",
    "image_names = [item[20:-1] for item in sorted(glob(\"resources/data_for_training_04/*/\"))]\n",
    "\n",
    "print('%s images.\\n' % len(np.hstack([train_files, valid_files, test_files])))\n",
    "print('%d training images.' % len(train_files))\n",
    "print('%d validation images.' % len(valid_files))\n",
    "print('%d test images.'% len(test_files))"
   ]
  },
  {
   "cell_type": "markdown",
   "metadata": {},
   "source": [
    "# Define function for preprocessing images"
   ]
  },
  {
   "cell_type": "code",
   "execution_count": 4,
   "metadata": {},
   "outputs": [],
   "source": [
    "def path_to_tensor(img_path):\n",
    "\n",
    "    img = image.load_img(img_path, grayscale=False, color_mode=\"rgb\", target_size=(400, 400), interpolation=\"nearest\")\n",
    "    img_array = image.img_to_array(img)\n",
    "\n",
    "    return np.expand_dims(img_array, axis=0)\n",
    "\n",
    "def paths_to_tensor(img_paths):\n",
    "    \n",
    "    list_of_tensors = [path_to_tensor(img_path) for img_path in tqdm(img_paths)]\n",
    "    return np.vstack(list_of_tensors)"
   ]
  },
  {
   "cell_type": "markdown",
   "metadata": {},
   "source": [
    "# Preprocess images"
   ]
  },
  {
   "cell_type": "code",
   "execution_count": 5,
   "metadata": {
    "scrolled": true
   },
   "outputs": [
    {
     "name": "stderr",
     "output_type": "stream",
     "text": [
      "100%|██████████| 1149/1149 [00:13<00:00, 87.62it/s]\n",
      "100%|██████████| 383/383 [00:05<00:00, 71.59it/s]\n",
      "100%|██████████| 383/383 [00:04<00:00, 90.54it/s] \n"
     ]
    }
   ],
   "source": [
    "from PIL import ImageFile                            \n",
    "ImageFile.LOAD_TRUNCATED_IMAGES = True                 \n",
    "\n",
    "# pre-process the data for Keras\n",
    "train_tensors = paths_to_tensor(train_files).astype('float32')/255\n",
    "valid_tensors = paths_to_tensor(valid_files).astype('float32')/255\n",
    "test_tensors = paths_to_tensor(test_files).astype('float32')/255"
   ]
  },
  {
   "cell_type": "markdown",
   "metadata": {},
   "source": [
    "# Build Model"
   ]
  },
  {
   "cell_type": "code",
   "execution_count": 6,
   "metadata": {},
   "outputs": [
    {
     "name": "stdout",
     "output_type": "stream",
     "text": [
      "Model: \"sequential\"\n",
      "_________________________________________________________________\n",
      "Layer (type)                 Output Shape              Param #   \n",
      "=================================================================\n",
      "conv2d (Conv2D)              (None, 400, 400, 4)       52        \n",
      "_________________________________________________________________\n",
      "max_pooling2d (MaxPooling2D) (None, 200, 200, 4)       0         \n",
      "_________________________________________________________________\n",
      "conv2d_1 (Conv2D)            (None, 200, 200, 8)       136       \n",
      "_________________________________________________________________\n",
      "max_pooling2d_1 (MaxPooling2 (None, 100, 100, 8)       0         \n",
      "_________________________________________________________________\n",
      "dropout (Dropout)            (None, 100, 100, 8)       0         \n",
      "_________________________________________________________________\n",
      "conv2d_2 (Conv2D)            (None, 100, 100, 12)      396       \n",
      "_________________________________________________________________\n",
      "max_pooling2d_2 (MaxPooling2 (None, 50, 50, 12)        0         \n",
      "_________________________________________________________________\n",
      "dropout_1 (Dropout)          (None, 50, 50, 12)        0         \n",
      "_________________________________________________________________\n",
      "conv2d_3 (Conv2D)            (None, 50, 50, 16)        784       \n",
      "_________________________________________________________________\n",
      "max_pooling2d_3 (MaxPooling2 (None, 25, 25, 16)        0         \n",
      "_________________________________________________________________\n",
      "dropout_2 (Dropout)          (None, 25, 25, 16)        0         \n",
      "_________________________________________________________________\n",
      "flatten (Flatten)            (None, 10000)             0         \n",
      "_________________________________________________________________\n",
      "dense (Dense)                (None, 256)               2560256   \n",
      "_________________________________________________________________\n",
      "dropout_3 (Dropout)          (None, 256)               0         \n",
      "_________________________________________________________________\n",
      "dense_1 (Dense)              (None, 3)                 771       \n",
      "=================================================================\n",
      "Total params: 2,562,395\n",
      "Trainable params: 2,562,395\n",
      "Non-trainable params: 0\n",
      "_________________________________________________________________\n"
     ]
    }
   ],
   "source": [
    "model = Sequential()\n",
    "\n",
    "model.add(Conv2D(filters=4, kernel_size=2, padding='same',\n",
    "                 activation='relu', input_shape=(400, 400, 3)))\n",
    "model.add(MaxPooling2D(pool_size=2))\n",
    "\n",
    "model.add(Conv2D(filters=8, kernel_size=2, padding='same', activation='relu'))\n",
    "model.add(MaxPooling2D(pool_size=2))\n",
    "model.add(Dropout(0.1))\n",
    "\n",
    "model.add(Conv2D(filters=12, kernel_size=2, padding='same', activation='relu'))\n",
    "model.add(MaxPooling2D(pool_size=2))\n",
    "model.add(Dropout(0.2))\n",
    "\n",
    "model.add(Conv2D(filters=16, kernel_size=2, padding='same', activation='relu'))\n",
    "model.add(MaxPooling2D(pool_size=2))\n",
    "model.add(Dropout(0.3))\n",
    "\n",
    "\n",
    "\n",
    "model.add(Flatten())\n",
    "\n",
    "model.add(Dense(256, activation='relu'))\n",
    "model.add(Dropout(0.4))\n",
    "\n",
    "model.add(Dense(3, activation='softmax'))\n",
    "\n",
    "\n",
    "model.summary()\n",
    "\n",
    "model.compile(optimizer='rmsprop', loss='categorical_crossentropy', metrics=['accuracy'])"
   ]
  },
  {
   "cell_type": "markdown",
   "metadata": {},
   "source": [
    "# Train the model with training and validating images"
   ]
  },
  {
   "cell_type": "code",
   "execution_count": 7,
   "metadata": {},
   "outputs": [
    {
     "name": "stdout",
     "output_type": "stream",
     "text": [
      "Epoch 1/15\n",
      "18/18 [==============================] - ETA: 0s - loss: 1.4271 - accuracy: 0.4621\n",
      "Epoch 00001: val_loss improved from inf to 1.05875, saving model to saved_models/weights.best.image_classifier.hdf5\n",
      "18/18 [==============================] - 52s 3s/step - loss: 1.4271 - accuracy: 0.4621 - val_loss: 1.0588 - val_accuracy: 0.3577\n",
      "Epoch 2/15\n",
      "18/18 [==============================] - ETA: 0s - loss: 1.0518 - accuracy: 0.4430\n",
      "Epoch 00002: val_loss improved from 1.05875 to 1.05730, saving model to saved_models/weights.best.image_classifier.hdf5\n",
      "18/18 [==============================] - 46s 3s/step - loss: 1.0518 - accuracy: 0.4430 - val_loss: 1.0573 - val_accuracy: 0.4726\n",
      "Epoch 3/15\n",
      "18/18 [==============================] - ETA: 0s - loss: 1.0246 - accuracy: 0.4900\n",
      "Epoch 00003: val_loss improved from 1.05730 to 1.03841, saving model to saved_models/weights.best.image_classifier.hdf5\n",
      "18/18 [==============================] - 43s 2s/step - loss: 1.0246 - accuracy: 0.4900 - val_loss: 1.0384 - val_accuracy: 0.4883\n",
      "Epoch 4/15\n",
      "18/18 [==============================] - ETA: 0s - loss: 0.9938 - accuracy: 0.5344\n",
      "Epoch 00004: val_loss improved from 1.03841 to 1.00910, saving model to saved_models/weights.best.image_classifier.hdf5\n",
      "18/18 [==============================] - 45s 2s/step - loss: 0.9938 - accuracy: 0.5344 - val_loss: 1.0091 - val_accuracy: 0.5483\n",
      "Epoch 5/15\n",
      "18/18 [==============================] - ETA: 0s - loss: 0.9740 - accuracy: 0.5405\n",
      "Epoch 00005: val_loss improved from 1.00910 to 0.98635, saving model to saved_models/weights.best.image_classifier.hdf5\n",
      "18/18 [==============================] - 42s 2s/step - loss: 0.9740 - accuracy: 0.5405 - val_loss: 0.9864 - val_accuracy: 0.5614\n",
      "Epoch 6/15\n",
      "18/18 [==============================] - ETA: 0s - loss: 0.9589 - accuracy: 0.5561\n",
      "Epoch 00006: val_loss did not improve from 0.98635\n",
      "18/18 [==============================] - 46s 3s/step - loss: 0.9589 - accuracy: 0.5561 - val_loss: 0.9955 - val_accuracy: 0.5535\n",
      "Epoch 7/15\n",
      "18/18 [==============================] - ETA: 0s - loss: 0.9283 - accuracy: 0.5657\n",
      "Epoch 00007: val_loss improved from 0.98635 to 0.94492, saving model to saved_models/weights.best.image_classifier.hdf5\n",
      "18/18 [==============================] - 45s 2s/step - loss: 0.9283 - accuracy: 0.5657 - val_loss: 0.9449 - val_accuracy: 0.5561\n",
      "Epoch 8/15\n",
      "18/18 [==============================] - ETA: 0s - loss: 0.9166 - accuracy: 0.5866\n",
      "Epoch 00008: val_loss did not improve from 0.94492\n",
      "18/18 [==============================] - 42s 2s/step - loss: 0.9166 - accuracy: 0.5866 - val_loss: 0.9696 - val_accuracy: 0.5614\n",
      "Epoch 9/15\n",
      "18/18 [==============================] - ETA: 0s - loss: 0.8855 - accuracy: 0.5997\n",
      "Epoch 00009: val_loss did not improve from 0.94492\n",
      "18/18 [==============================] - 43s 2s/step - loss: 0.8855 - accuracy: 0.5997 - val_loss: 0.9543 - val_accuracy: 0.5561\n",
      "Epoch 10/15\n",
      "18/18 [==============================] - ETA: 0s - loss: 0.8960 - accuracy: 0.6040\n",
      "Epoch 00010: val_loss improved from 0.94492 to 0.94064, saving model to saved_models/weights.best.image_classifier.hdf5\n",
      "18/18 [==============================] - 42s 2s/step - loss: 0.8960 - accuracy: 0.6040 - val_loss: 0.9406 - val_accuracy: 0.5744\n",
      "Epoch 11/15\n",
      "18/18 [==============================] - ETA: 0s - loss: 0.8486 - accuracy: 0.6136\n",
      "Epoch 00011: val_loss did not improve from 0.94064\n",
      "18/18 [==============================] - 44s 2s/step - loss: 0.8486 - accuracy: 0.6136 - val_loss: 0.9445 - val_accuracy: 0.5614\n",
      "Epoch 12/15\n",
      "18/18 [==============================] - ETA: 0s - loss: 0.8295 - accuracy: 0.6379\n",
      "Epoch 00012: val_loss did not improve from 0.94064\n",
      "18/18 [==============================] - 43s 2s/step - loss: 0.8295 - accuracy: 0.6379 - val_loss: 0.9457 - val_accuracy: 0.5666\n",
      "Epoch 13/15\n",
      "18/18 [==============================] - ETA: 0s - loss: 0.7993 - accuracy: 0.6397\n",
      "Epoch 00013: val_loss did not improve from 0.94064\n",
      "18/18 [==============================] - 42s 2s/step - loss: 0.7993 - accuracy: 0.6397 - val_loss: 0.9830 - val_accuracy: 0.5196\n",
      "Epoch 14/15\n",
      "18/18 [==============================] - ETA: 0s - loss: 0.7717 - accuracy: 0.6571\n",
      "Epoch 00014: val_loss improved from 0.94064 to 0.92274, saving model to saved_models/weights.best.image_classifier.hdf5\n",
      "18/18 [==============================] - 45s 3s/step - loss: 0.7717 - accuracy: 0.6571 - val_loss: 0.9227 - val_accuracy: 0.5666\n",
      "Epoch 15/15\n",
      "18/18 [==============================] - ETA: 0s - loss: 0.7717 - accuracy: 0.6484\n",
      "Epoch 00015: val_loss did not improve from 0.92274\n",
      "18/18 [==============================] - 41s 2s/step - loss: 0.7717 - accuracy: 0.6484 - val_loss: 0.9324 - val_accuracy: 0.6031\n"
     ]
    },
    {
     "data": {
      "text/plain": [
       "<tensorflow.python.keras.callbacks.History at 0x7f9c188a4710>"
      ]
     },
     "execution_count": 7,
     "metadata": {},
     "output_type": "execute_result"
    }
   ],
   "source": [
    "epochs = 15\n",
    "\n",
    "checkpointer = ModelCheckpoint(filepath='saved_models/weights.best.image_classifier.hdf5',\n",
    "                               verbose=1, save_best_only=True)\n",
    "\n",
    "model.fit(train_tensors, train_targets, validation_data=(valid_tensors, valid_targets),\n",
    "          epochs=epochs, batch_size=64, callbacks=[checkpointer], verbose=1)"
   ]
  },
  {
   "cell_type": "code",
   "execution_count": 8,
   "metadata": {},
   "outputs": [
    {
     "name": "stdout",
     "output_type": "stream",
     "text": [
      "Test accuracy: 60.5744%\n"
     ]
    }
   ],
   "source": [
    "model.load_weights('saved_models/weights.best.image_classifier.hdf5')\n",
    "\n",
    "predictions = [np.argmax(model.predict(np.expand_dims(tensor, axis=0))) for tensor in test_tensors]\n",
    "\n",
    "test_accuracy = 100*np.sum(np.array(predictions)==np.argmax(test_targets, axis=1))/len(predictions)\n",
    "print('Test accuracy: %.4f%%' % test_accuracy)"
   ]
  },
  {
   "cell_type": "code",
   "execution_count": null,
   "metadata": {},
   "outputs": [],
   "source": []
  }
 ],
 "metadata": {
  "kernelspec": {
   "display_name": "Python 3",
   "language": "python",
   "name": "python3"
  },
  "language_info": {
   "codemirror_mode": {
    "name": "ipython",
    "version": 3
   },
   "file_extension": ".py",
   "mimetype": "text/x-python",
   "name": "python",
   "nbconvert_exporter": "python",
   "pygments_lexer": "ipython3",
   "version": "3.7.6"
  }
 },
 "nbformat": 4,
 "nbformat_minor": 4
}
